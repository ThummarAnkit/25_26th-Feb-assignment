{
 "cells": [
  {
   "cell_type": "markdown",
   "id": "c60408a1",
   "metadata": {},
   "source": [
    "# Consider the below code to answer further questions:"
   ]
  },
  {
   "cell_type": "code",
   "execution_count": 2,
   "id": "14d6de5b",
   "metadata": {},
   "outputs": [],
   "source": [
    "import numpy as np\n",
    "list_ = [ '1' , '2' , '3' , '4' , '5' ]\n",
    "array_list = np.array(object = list_)"
   ]
  },
  {
   "cell_type": "markdown",
   "id": "0fa20a59",
   "metadata": {},
   "source": [
    "# Q1. Is there any difference in the data type of variables list_ and array_list? If there is then write a code to print the data types of both the variables."
   ]
  },
  {
   "cell_type": "markdown",
   "id": "b3d0b9c7",
   "metadata": {},
   "source": [
    "__Ans. :__<br>\n",
    "\n",
    "Yes, there is a difference in the data type of variables __list___ and __array_list__.\n",
    "\n",
    "The variable __list___ is a Python list, whereas the variable __array_list__ is a NumPy array.\n",
    "\n",
    "To print the data types of both variables, we can use the __type()__ function:"
   ]
  },
  {
   "cell_type": "code",
   "execution_count": 3,
   "id": "46fba4a9",
   "metadata": {},
   "outputs": [
    {
     "name": "stdout",
     "output_type": "stream",
     "text": [
      "<class 'list'>\n",
      "<class 'numpy.ndarray'>\n"
     ]
    }
   ],
   "source": [
    "import numpy as np\n",
    "\n",
    "list_ = ['1', '2', '3', '4', '5']\n",
    "array_list = np.array(object=list_)\n",
    "\n",
    "print(type(list_))\n",
    "print(type(array_list))"
   ]
  },
  {
   "cell_type": "markdown",
   "id": "2bb18048",
   "metadata": {},
   "source": [
    "# Q2. Write a code to print the data type of each and every element of both the variables list_ and array_list."
   ]
  },
  {
   "cell_type": "code",
   "execution_count": 5,
   "id": "bef12fba",
   "metadata": {},
   "outputs": [
    {
     "name": "stdout",
     "output_type": "stream",
     "text": [
      "<class 'str'>\n",
      "<class 'str'>\n",
      "<class 'str'>\n",
      "<class 'str'>\n",
      "<class 'str'>\n"
     ]
    }
   ],
   "source": [
    "list_ = ['1', '2', '3', '4', '5']\n",
    "\n",
    "for element in list_:\n",
    "    print(type(element))"
   ]
  },
  {
   "cell_type": "code",
   "execution_count": 6,
   "id": "90513048",
   "metadata": {},
   "outputs": [
    {
     "name": "stdout",
     "output_type": "stream",
     "text": [
      "<class 'numpy.str_'>\n",
      "<class 'numpy.str_'>\n",
      "<class 'numpy.str_'>\n",
      "<class 'numpy.str_'>\n",
      "<class 'numpy.str_'>\n"
     ]
    }
   ],
   "source": [
    "array_list = np.array(object=list_)\n",
    "\n",
    "for element in array_list:\n",
    "    print(type(element))"
   ]
  },
  {
   "cell_type": "markdown",
   "id": "975775b6",
   "metadata": {},
   "source": [
    "# Q3. Considering the following changes in the variable, array_list:\n",
    "### array_list = np.array(object = list_, dtype = int)\n",
    "# Will there be any difference in the data type of the elements present in both the variables, list_ andarra_list? If so then print the data types of each and every element present in both the variables, list_ and arra_list."
   ]
  },
  {
   "cell_type": "markdown",
   "id": "7d3a3c54",
   "metadata": {},
   "source": [
    "__Ans. :__<br>\n",
    "\n",
    "Yes, there will be a difference in the data type of the elements present in __list___ and __array_list__ after the following change:"
   ]
  },
  {
   "cell_type": "code",
   "execution_count": 7,
   "id": "9f8df012",
   "metadata": {},
   "outputs": [],
   "source": [
    "array_list = np.array(object=list_, dtype=int)"
   ]
  },
  {
   "cell_type": "markdown",
   "id": "adaded8d",
   "metadata": {},
   "source": [
    "In this case, we are explicitly specifying the dtype parameter as int, which will convert the elements in __list___ to integer type when creating the NumPy array __array_list__."
   ]
  },
  {
   "cell_type": "code",
   "execution_count": 8,
   "id": "4732e636",
   "metadata": {},
   "outputs": [
    {
     "name": "stdout",
     "output_type": "stream",
     "text": [
      "<class 'str'>\n",
      "<class 'str'>\n",
      "<class 'str'>\n",
      "<class 'str'>\n",
      "<class 'str'>\n",
      "<class 'numpy.int32'>\n",
      "<class 'numpy.int32'>\n",
      "<class 'numpy.int32'>\n",
      "<class 'numpy.int32'>\n",
      "<class 'numpy.int32'>\n"
     ]
    }
   ],
   "source": [
    "import numpy as np\n",
    "\n",
    "# Original list\n",
    "list_ = ['1', '2', '3', '4', '5']\n",
    "\n",
    "# NumPy array with integer type\n",
    "array_list = np.array(object=list_, dtype=int)\n",
    "\n",
    "# Print data type of each element in list_\n",
    "for element in list_:\n",
    "    print(type(element))\n",
    "    \n",
    "# Print data type of each element in array_list\n",
    "for element in array_list:\n",
    "    print(type(element))"
   ]
  },
  {
   "cell_type": "markdown",
   "id": "fa9efea2",
   "metadata": {},
   "source": [
    "# Consider the below code to answer further questions:"
   ]
  },
  {
   "cell_type": "code",
   "execution_count": 4,
   "id": "b26418f6",
   "metadata": {},
   "outputs": [],
   "source": [
    "import numpy as np\n",
    "num_list = [ [ 1 , 2 , 3 ] , [ 4 , 5 , 6 ] ]\n",
    "num_array = np.array(object = num_list)"
   ]
  },
  {
   "cell_type": "markdown",
   "id": "7e027602",
   "metadata": {},
   "source": [
    "# Q4. Write a code to find the following characteristics of variable, num_array:\n",
    "### (i) shape"
   ]
  },
  {
   "cell_type": "code",
   "execution_count": 9,
   "id": "c8cff950",
   "metadata": {},
   "outputs": [
    {
     "name": "stdout",
     "output_type": "stream",
     "text": [
      "(2, 3)\n"
     ]
    }
   ],
   "source": [
    "# Print the shape of num_array\n",
    "print(num_array.shape)"
   ]
  },
  {
   "cell_type": "markdown",
   "id": "951d2c1b",
   "metadata": {},
   "source": [
    "### (ii) size"
   ]
  },
  {
   "cell_type": "code",
   "execution_count": 10,
   "id": "43bccec8",
   "metadata": {},
   "outputs": [
    {
     "name": "stdout",
     "output_type": "stream",
     "text": [
      "6\n"
     ]
    }
   ],
   "source": [
    "# Print the size of num_array\n",
    "print(num_array.size)"
   ]
  },
  {
   "cell_type": "markdown",
   "id": "2cb09d6c",
   "metadata": {},
   "source": [
    "# Q5. Write a code to create numpy array of 3*3 matrix containing zeros only, using a numpy array creation function.\n",
    "[Hint: The size of the array will be 9 and the shape will be (3,3).]"
   ]
  },
  {
   "cell_type": "code",
   "execution_count": 11,
   "id": "e5a50a44",
   "metadata": {},
   "outputs": [
    {
     "name": "stdout",
     "output_type": "stream",
     "text": [
      "[[0. 0. 0.]\n",
      " [0. 0. 0.]\n",
      " [0. 0. 0.]]\n"
     ]
    }
   ],
   "source": [
    "import numpy as np\n",
    "\n",
    "# Create a NumPy array of a 3x3 matrix containing zeros\n",
    "zeros_array = np.zeros(shape=(3, 3))\n",
    "\n",
    "# Print the zeros_array\n",
    "print(zeros_array)"
   ]
  },
  {
   "cell_type": "markdown",
   "id": "ffe0256f",
   "metadata": {},
   "source": [
    "# Q6. Create an identity matrix of shape (5,5) using numpy functions?\n",
    "[Hint: An identity matrix is a matrix containing 1 diagonally and other elements will be 0.]"
   ]
  },
  {
   "cell_type": "code",
   "execution_count": 12,
   "id": "8c834c7d",
   "metadata": {},
   "outputs": [
    {
     "name": "stdout",
     "output_type": "stream",
     "text": [
      "[[1. 0. 0. 0. 0.]\n",
      " [0. 1. 0. 0. 0.]\n",
      " [0. 0. 1. 0. 0.]\n",
      " [0. 0. 0. 1. 0.]\n",
      " [0. 0. 0. 0. 1.]]\n"
     ]
    }
   ],
   "source": [
    "import numpy as np\n",
    "\n",
    "# Create an identity matrix of shape (5, 5)\n",
    "identity_matrix = np.identity(n=5)\n",
    "\n",
    "# Print the identity_matrix\n",
    "print(identity_matrix)"
   ]
  },
  {
   "cell_type": "code",
   "execution_count": null,
   "id": "a7ef6eca",
   "metadata": {},
   "outputs": [],
   "source": []
  }
 ],
 "metadata": {
  "kernelspec": {
   "display_name": "Python 3 (ipykernel)",
   "language": "python",
   "name": "python3"
  },
  "language_info": {
   "codemirror_mode": {
    "name": "ipython",
    "version": 3
   },
   "file_extension": ".py",
   "mimetype": "text/x-python",
   "name": "python",
   "nbconvert_exporter": "python",
   "pygments_lexer": "ipython3",
   "version": "3.9.7"
  }
 },
 "nbformat": 4,
 "nbformat_minor": 5
}
